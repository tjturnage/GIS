{
  "nbformat": 4,
  "nbformat_minor": 0,
  "metadata": {
    "colab": {
      "provenance": [],
      "authorship_tag": "ABX9TyNpoQb/d74e7CKzAqStn5xP",
      "include_colab_link": true
    },
    "kernelspec": {
      "name": "python3",
      "display_name": "Python 3"
    },
    "language_info": {
      "name": "python"
    }
  },
  "cells": [
    {
      "cell_type": "markdown",
      "metadata": {
        "id": "view-in-github",
        "colab_type": "text"
      },
      "source": [
        "<a href=\"https://colab.research.google.com/github/tjturnage/GIS/blob/main/Central_IA_NWA_workshop_warning_polygons.ipynb\" target=\"_parent\"><img src=\"https://colab.research.google.com/assets/colab-badge.svg\" alt=\"Open In Colab\"/></a>"
      ]
    },
    {
      "cell_type": "markdown",
      "source": [],
      "metadata": {
        "id": "94nQ3xywWAQS"
      }
    },
    {
      "cell_type": "code",
      "execution_count": 12,
      "metadata": {
        "id": "K01ZhLmLJmMP"
      },
      "outputs": [],
      "source": [
        "!pip install geopandas &> /dev/null\n",
        "!apt install imagemagick &> /dev/null\n",
        "import os\n",
        "from datetime import datetime, timedelta\n",
        "import pytz\n",
        "import pandas as pd\n",
        "import geopandas as gpd\n",
        "import numpy as np\n",
        "from shapely.geometry import box\n",
        "from shapely.ops import unary_union\n",
        "import matplotlib.pyplot as plt"
      ]
    },
    {
      "cell_type": "markdown",
      "source": [
        "<h2>Refer to <a href=\"https://github.com/akrherz/nwa/blob/main/README.md\" target=\"_blank\">this page</a> to set your variables.</h2>\n",
        "<h2>For example, for 2025 you will set the following:</h2>\n",
        "\n",
        "\n",
        "```\n",
        "shapefile_path = \"https://github.com/akrherz/nwa/raw/main/output/ciowa_nwa_2025.zip\"\n",
        "start_time = \"3/27/2025_1900\"\n",
        "end_time = \"3/27/2025_2030\"\n",
        "```\n",
        "\n"
      ],
      "metadata": {
        "id": "-vAoDiWzZ8Md"
      }
    },
    {
      "cell_type": "code",
      "source": [
        "# Load the shapefile containing polygons\n",
        "shapefile_path = \"https://github.com/akrherz/nwa/raw/main/output/ciowa_nwa_2025.zip\"\n",
        "start_time = \"3/27/2025_1900\"\n",
        "end_time = \"3/27/2025_2030\""
      ],
      "metadata": {
        "id": "68vjMDbXiGaW"
      },
      "execution_count": 20,
      "outputs": []
    },
    {
      "cell_type": "code",
      "source": [
        "# Determine earliest and latest issue times and round down to nearest 5 minutes\n",
        "start_dt = datetime.strptime(start_time, \"%m/%d/%Y_%H%M\")\n",
        "start_dt = start_dt - timedelta(minutes=start_dt.minute % 5) # Use start_dt here to get the minute value\n",
        "shifted_start_dt = start_dt + timedelta(minutes=30)\n",
        "end_dt = datetime.strptime(end_time, \"%m/%d/%Y_%H%M\")\n",
        "end_dt = end_dt - timedelta(minutes=end_dt.minute % 5) # Use end_dt here to get the minute value\n",
        "shifted_end_dt = end_dt + timedelta(minutes=30)\n",
        "\n",
        "start_tstr = start_dt.strftime(\"%Y-%m-%dT%H:%M:%SZ\")\n",
        "end_tstr = end_dt.strftime(\"%Y-%m-%dT%H:%M:%SZ\")\n",
        "shifted_start = shifted_start_dt.strftime(\"%Y-%m-%dT%H:%M:%SZ\")\n",
        "shifted_end = shifted_end_dt.strftime(\"%Y-%m-%dT%H:%M:%SZ\")\n",
        "\n",
        "# Generate datetime range\n",
        "start_times = pd.date_range(\n",
        "    start=start_tstr,\n",
        "    end=end_tstr,\n",
        "    freq=\"5min\")\n",
        "\n",
        "end_times = pd.date_range(\n",
        "    start=shifted_start,\n",
        "    end=shifted_end,\n",
        "    freq=\"5min\")\n",
        "\n",
        "# Convert to the desired ISO format\n",
        "formatted_start_times = start_times.strftime(\"%Y-%m-%dT%H:%M:%SZ\")\n",
        "formatted_end_times = end_times.strftime(\"%Y-%m-%dT%H:%M:%SZ\")\n",
        "\n",
        "\n",
        "def trim_gdf(gdf, start_time, end_time):\n",
        "    gdf_gt = gdf[gdf['utc_issue'] > start_time]\n",
        "    gdf_lt = gdf_gt[gdf_gt['utc_issue'] < end_time]\n",
        "    return gdf_lt\n",
        "\n",
        "def make_grid(gdf, start_time, end_time):\n",
        "    gdf = trim_gdf(gdf, start_time, end_time)\n",
        "\n",
        "    # Check if the GeoDataFrame is empty after trimming\n",
        "    if gdf.empty:\n",
        "        print(f\"Warning: GeoDataFrame is empty for start_time={start_time}, end_time={end_time}. Skipping grid creation.\")\n",
        "        return None  # or raise an exception if desired\n",
        "\n",
        "    if gdf.crs is None:\n",
        "        # Replace 'EPSG:YOUR_EPSG_CODE' with the actual EPSG code of the shapefile's CRS\n",
        "        # If you don't know the EPSG code, you can try to find it based on the shapefile's metadata or documentation\n",
        "        gdf = gdf.set_crs(\"EPSG:4326\")\n",
        "\n",
        "    # Ensure it's in a projected CRS for accurate distance measurement\n",
        "    if gdf.crs is None or not gdf.crs.is_projected:\n",
        "        gdf = gdf.to_crs(\"EPSG:3857\")  # Web Mercator projection\n",
        "\n",
        "    # Define grid size (2 km x 2 km)\n",
        "    grid_size = 2000  # meters\n",
        "\n",
        "    # Get the bounding box of the data\n",
        "    minx, miny, maxx, maxy = gdf.total_bounds\n",
        "\n",
        "    # Generate grid cells\n",
        "    x_coords = np.arange(minx, maxx, grid_size)\n",
        "    y_coords = np.arange(miny, maxy, grid_size)\n",
        "\n",
        "    grid_cells = []\n",
        "    for x in x_coords:\n",
        "        for y in y_coords:\n",
        "            grid_cells.append(box(x, y, x + grid_size, y + grid_size))\n",
        "\n",
        "    # Create a GeoDataFrame for the grid\n",
        "    grid_gdf = gpd.GeoDataFrame({\"geometry\": grid_cells}, crs=gdf.crs)\n",
        "\n",
        "    # Count overlapping polygons in each grid cell and assign to the grid_gdf\n",
        "    grid_gdf[\"polygon_count\"] = grid_gdf.geometry.apply(lambda cell: sum(gdf.intersects(cell)))\n",
        "    return grid_gdf # Return the modified grid_gdf with the 'polygon_count' column\n",
        "\n",
        "def plot_grid(grid_gdf,start_time, end_time) -> None:\n",
        "    # Plot heatmap\n",
        "    temp_time = datetime.strptime(start_time, \"%Y-%m-%dT%H:%M:%SZ\")\n",
        "    clean_time = temp_time.strftime(\"%Y%m%d %H:%MZ\")\n",
        "    fig, ax = plt.subplots(figsize=(10, 10))\n",
        "\n",
        "\n",
        "    # Overlay state boundaries\n",
        "    states.boundary.plot(ax=ax, edgecolor=\"black\", linewidth=1)\n",
        "\n",
        "    # Overlay county boundaries\n",
        "    counties.boundary.plot(ax=ax, edgecolor=\"gray\", linewidth=0.5)\n",
        "\n",
        "    grid_gdf.plot(column=\"polygon_count\", cmap=\"hot_r\", linewidth=0, vmin=0, vmax=60, edgecolor=None, legend=True, ax=ax)\n",
        "\n",
        "    # Customize plot\n",
        "    ax.set_title(f\"2 km² Polygon Heatmap: 30 mins starting {clean_time}\", fontsize=14)\n",
        "    ax.set_xlabel(\"Longitude\")\n",
        "    ax.set_ylabel(\"Latitude\")\n",
        "\n",
        "    # Zoom into Iowa (centered)\n",
        "    # Get Iowa's centroid\n",
        "    #iowa = states[states['NAME'] == 'Iowa']\n",
        "    #iowa_centroid = iowa.geometry.centroid.iloc[0]\n",
        "    #print(iowa_centroid)\n",
        "    centroid_x, centroid_y = -10408613.911455575, 5174547.7231889395\n",
        "    # Define bounding box based on Iowa's centroid (adjust buffer as needed)\n",
        "    buffer = 400000  # 400 km buffer around the centroid\n",
        "    buffer_y = 350000\n",
        "    bounds = [\n",
        "        centroid_x - buffer,\n",
        "        centroid_y - buffer_y,\n",
        "        centroid_x + buffer,\n",
        "        centroid_y + buffer_y,\n",
        "    ]\n",
        "\n",
        "    ax.set_xlim(bounds[0], bounds[2])\n",
        "    ax.set_ylim(bounds[1], bounds[3])\n",
        "\n",
        "    plt.savefig(f\"heatmap_{clean_time}.png\", bbox_inches='tight', dpi=200)\n",
        "    #plt.show()\n",
        "\n",
        "gdf = gpd.read_file(shapefile_path)\n",
        "states = gpd.read_file(\"https://www2.census.gov/geo/tiger/GENZ2018/shp/cb_2018_us_state_500k.zip\")\n",
        "states = states.to_crs(epsg=3857)\n",
        "counties = gpd.read_file(\"https://www.weather.gov/source/gis/Shapefiles/County/c_05mr24.zip\")\n",
        "counties = counties.to_crs(epsg=3857)\n",
        "\n",
        "for i in range(len(formatted_start_times)):\n",
        "    start_time = formatted_start_times[i]\n",
        "    end_time = formatted_end_times[i]\n",
        "    grid_gdf = make_grid(gdf, start_time, end_time)\n",
        "    # Check if make_grid returned None due to an empty GeoDataFrame\n",
        "    if grid_gdf is not None:\n",
        "        plot_grid(grid_gdf, start_time, end_time)\n",
        "\n",
        "\n",
        "# Run command to create animation\n",
        "cmd = f'convert -delay 20 -loop 0 *.png polygon_animation.gif'\n",
        "os.system(cmd)\n"
      ],
      "metadata": {
        "id": "d_zx81h6KfXo",
        "collapsed": true
      },
      "execution_count": null,
      "outputs": []
    }
  ]
}